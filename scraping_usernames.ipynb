{
 "cells": [
  {
   "cell_type": "code",
   "execution_count": 2,
   "metadata": {},
   "outputs": [
    {
     "name": "stderr",
     "output_type": "stream",
     "text": [
      "c:\\Users\\Admin\\Anaconda3\\lib\\site-packages\\ipykernel_launcher.py:11: DeprecationWarning: executable_path has been deprecated, please pass in a Service object\n",
      "  # This is added back by InteractiveShellApp.init_path()\n"
     ]
    }
   ],
   "source": [
    "from selenium import webdriver\n",
    "import pandas as pd\n",
    "from selenium.webdriver.common.by import By\n",
    "from selenium.webdriver.support.ui import WebDriverWait\n",
    "from selenium.webdriver.support import expected_conditions as EC\n",
    "import time\n",
    "\n",
    "\n",
    "\n",
    "# Set up the webdriver\n",
    "driver = webdriver.Chrome(r\"C:\\Users\\Admin\\Desktop\\chromedriver_win32 (1)\\chromedriver.exe\")\n",
    "# Go to the login page\n",
    "driver.get(\"https://starngage.com/plus/en-us/login\")\n",
    "#wait until I enter the username and password\n",
    "time.sleep(10)\n",
    "\n",
    "# Initialize an empty list to store the data\n",
    "data = []\n",
    "\n",
    "# Set the base URL\n",
    "base_url = \"https://starngage.com/plus/en-us/influencer/ranking?page=\"\n",
    "\n",
    "# Loop through the pages\n",
    "for i in range(1, 11):\n",
    "  # Construct the full URL\n",
    "  url = base_url + str(i)\n",
    "\n",
    "  # Go to the page\n",
    "  driver.get(url)\n",
    "\n",
    "  # Get the data from the class \"link color-pink text-break\"\n",
    "  elements = driver.find_elements(By.CSS_SELECTOR, \".link.color-pink.text-break\")\n",
    "\n",
    "  # Loop through the elements and append their text to the data list\n",
    "  for element in elements:\n",
    "    data.append(element.text)\n",
    "\n",
    "# Close the webdriver\n",
    "driver.close()\n",
    "\n",
    "# Convert the data list to a dataframe\n",
    "df = pd.DataFrame(data, columns=[\"Data\"])\n",
    "\n",
    "len(df)\n",
    "\n",
    "# df to csv\n",
    "df.to_csv(\"ig_users.csv\", index=False)\n",
    "\n"
   ]
  },
  {
   "cell_type": "code",
   "execution_count": 6,
   "metadata": {},
   "outputs": [],
   "source": []
  }
 ],
 "metadata": {
  "kernelspec": {
   "display_name": "base",
   "language": "python",
   "name": "python3"
  },
  "language_info": {
   "codemirror_mode": {
    "name": "ipython",
    "version": 3
   },
   "file_extension": ".py",
   "mimetype": "text/x-python",
   "name": "python",
   "nbconvert_exporter": "python",
   "pygments_lexer": "ipython3",
   "version": "3.7.4 (default, Aug  9 2019, 18:34:13) [MSC v.1915 64 bit (AMD64)]"
  },
  "orig_nbformat": 4,
  "vscode": {
   "interpreter": {
    "hash": "fe6f22945cfc871c9399bf7d9f19a00d7d184a1ba9bcdcec8f1d4899546bde82"
   }
  }
 },
 "nbformat": 4,
 "nbformat_minor": 2
}
